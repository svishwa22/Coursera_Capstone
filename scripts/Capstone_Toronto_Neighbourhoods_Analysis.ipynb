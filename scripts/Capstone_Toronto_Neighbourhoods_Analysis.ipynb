{
 "cells": [
  {
   "cell_type": "markdown",
   "metadata": {
    "collapsed": true
   },
   "source": [
    "# Capstone Project - Toronto Neighourhoods Analysis - Population, Venues & Crime\n",
    "### Applied Data Science Capstone by IBM/Coursera"
   ]
  },
  {
   "cell_type": "markdown",
   "metadata": {},
   "source": [
    "## Table of contents\n",
    "* [Introduction: Business Problem](#introduction)\n",
    "* [Data](#data)\n",
    "* [Methodology](#methodology)\n",
    "* [Analysis](#analysis)\n",
    "* [Results and Discussion](#results)\n",
    "* [Conclusion](#conclusion)"
   ]
  },
  {
   "cell_type": "markdown",
   "metadata": {},
   "source": [
    "\n",
    "\n",
    "## Introduction: Business Problem <a name=\"introduction\"></a>"
   ]
  },
  {
   "cell_type": "markdown",
   "metadata": {},
   "source": [
    "In this project, we will analyze the neighbourhoods of **Toronto**, Canada on the basis of **Population , Venues and Crime rate**.Toronto is Canada’s largest city and a world leader in such areas as business, finance, technology, entertainment and culture. With a recorded population of 2,731,571 in 2016, it is the most populous city in Canada and the fourth most populous city in North America. Its large population of immigrants from all over the globe has also made Toronto one of the most multicultural cities in the world. Historically low crime rate in Toronto has resulted in the city having a reputation as one of the safest major cities in North America.\n",
    "\n",
    "This report will be helpful to people who are new to Toronto - Immigrants, people moved from different cities or people who want to move to different neighbourhood.\n",
    "\n",
    "There are 140 neighbourhoods officially recognized by the City of Toronto. As there a lot of venues in and around any neighbourhood, we will focus on top 100 venues within a radius of 500 meters.\n",
    "\n",
    "As a resident, you will want to choose a neighourhood based on population and crime rate. At the same time, you will want to choose the neighourhood with social places density. However, such information is not readily avaiable.\n",
    "\n",
    "When we consider all these, we can data science tools and machine learning algorithms to create a map and  chart where the population is placed on Toronto and each neighbourhood is clustered according to the venue density and crime rate."
   ]
  },
  {
   "cell_type": "markdown",
   "metadata": {},
   "source": [
    "## Data <a name=\"data\"></a>"
   ]
  },
  {
   "cell_type": "markdown",
   "metadata": {},
   "source": [
    "Based on definition of our problem, we need following dataset:\n",
    "* list of all neighbourhoods in Toronto with geographic coordinates - We will get this data using two sources \n",
    "    1. Webscraping the following **Wikipedia** page, https://en.wikipedia.org/wiki/List_of_postal_codes_of_Canada:_M \n",
    "    2. **Coursera IBM course** (https://cocl.us/Geospatial_data)\n",
    "* Population and Crime data for each neighbourhood - We will get this dataset from **Toronto police** website (https://data.torontopolice.on.ca/)\n",
    "https://opendata.arcgis.com/datasets/af500b5abb7240399853b35a2362d0c0_0.csv?outSR=%7B%22latestWkid%22%3A26717%2C%22wkid%22%3A26717%7D\n",
    "* Popular venues arounds neighborhoods - We will get this data using **FourSquare API**\n"
   ]
  },
  {
   "cell_type": "markdown",
   "metadata": {},
   "source": [
    "## Methodology <a name=\"methodology\"></a>"
   ]
  },
  {
   "cell_type": "markdown",
   "metadata": {},
   "source": []
  },
  {
   "cell_type": "markdown",
   "metadata": {},
   "source": [
    "## Analysis <a name=\"analysis\"></a>"
   ]
  },
  {
   "cell_type": "markdown",
   "metadata": {},
   "source": []
  },
  {
   "cell_type": "markdown",
   "metadata": {},
   "source": [
    "## Results and Discussion <a name=\"results\"></a>"
   ]
  },
  {
   "cell_type": "markdown",
   "metadata": {},
   "source": []
  },
  {
   "cell_type": "markdown",
   "metadata": {},
   "source": [
    "## Conclusion <a name=\"conclusion\"></a>"
   ]
  },
  {
   "cell_type": "markdown",
   "metadata": {},
   "source": []
  }
 ],
 "metadata": {
  "kernelspec": {
   "display_name": "Python 3",
   "language": "python",
   "name": "python3"
  },
  "language_info": {
   "codemirror_mode": {
    "name": "ipython",
    "version": 3
   },
   "file_extension": ".py",
   "mimetype": "text/x-python",
   "name": "python",
   "nbconvert_exporter": "python",
   "pygments_lexer": "ipython3",
   "version": "3.8.5"
  }
 },
 "nbformat": 4,
 "nbformat_minor": 1
}
